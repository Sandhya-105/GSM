{
 "cells": [
  {
   "cell_type": "code",
   "execution_count": 1,
   "metadata": {},
   "outputs": [],
   "source": [
    "from pcraster import *\n",
    "from pcraster.framework import *\n",
    "import matplotlib.pyplot as plt\n",
    "import numpy as np\n",
    "import random "
   ]
  },
  {
   "cell_type": "code",
   "execution_count": 5,
   "metadata": {},
   "outputs": [],
   "source": [
    "shrubDevelopment = 0\n",
    "\n",
    "class ShrubEncroachment(DynamicModel):\n",
    "\n",
    "  def __init__(self, bR, gR, rR):\n",
    "      DynamicModel.__init__(self)\n",
    "      setclone('clone200.map')\n",
    "      self.burningRate = bR\n",
    "      self.grazingRate = gR\n",
    "      self.removingRate = rR"
   ]
  },
  {
   "cell_type": "code",
   "execution_count": 4,
   "metadata": {},
   "outputs": [],
   "source": [
    " def initial(self):\n",
    "      # shrub middle 10%, other area 10% empty, 80% grass\n",
    "      self.resultMap = self.readmap(\"initialDividedNominal\")\n",
    "      self.Results(self.resultMap, \"Results/result_inital\")\n",
    "      self.range = 40\n",
    "      self.totalCells = 200 * 200\n",
    "      self.currentTimestep = 0"
   ]
  },
  {
   "cell_type": "code",
   "execution_count": 14,
   "metadata": {},
   "outputs": [],
   "source": [
    "def dynamic(self):\n",
    "      self.currentTimestep = self.currentTimestep +1 \n",
    "      global shrubDevelopment\n",
    "      #0: Empty\n",
    "      #1: grass\n",
    "      #2: Shrub\n",
    "      #3: Burning\n",
    "\n",
    "      estab_rate_shrub_on_empty = 6.8+mapnormal()*2.323\n",
    "      estab_rate_shrub_on_grass = 0.387+mapnormal()*0.082\n",
    "      estab_rate_shrub_on_burned = 38.8+mapnormal()*9.768\n",
    "      repro_rate_shrub_on_empty = 0.109+mapnormal()*0.01\n",
    "      repro_rate_shrub_on_grass = 0.061+mapnormal()*0.016\n",
    "      clonal_rate_gras_on_empty = 0.5\n",
    "      competition_shrub_center = 0.00015+mapnormal()*0.001\n",
    "      mortality_rate_shrub = 0.028+mapnormal()*0.0005\n",
    "      mortality_rate_grass = 0.125\n",
    "      estab_rate_grass_on_empty = 0.8\n",
    "      estab_rate_burned_on_shrub =38.8 + mapnormal()*9.768\n",
    "\n",
    "      self.resultMap = ifthenelse(self.resultMap == 3, 0, self.resultMap)\n",
    "      total_empty_cells = maptotal(scalar(self.resultMap == 0))\n",
    "      total_grass_cells = maptotal(scalar(self.resultMap == 1))\n",
    "      total_shrub_cells = maptotal(scalar(self.resultMap == 2))\n",
    "      numberOfBurnedCells = maptotal(scalar(self.resultMap == 3))\n",
    "\n",
    "      global_prob_empty = total_empty_cells / self.totalCells #first step 0.1\n",
    "      global_prob_grass = total_grass_cells / self.totalCells #first step 0.8\n",
    "      global_prob_shrub = total_shrub_cells / self.totalCells # first step 0.1\n",
    "\n",
    "      self.Results(total_empty_cells, \"Results/eCells\")\n",
    "      self.Results(global_prob_empty, \"Results/globalE\")\n",
    "      self.Results(global_prob_grass, \"Results/globalG\")\n",
    "      self.Results(global_prob_shrub, \"Results/globalS\")\n",
    "      \n",
    "      local_prob_qSG=scalar(ifthen(self.resultMap == 2, window4total(scalar(self.resultMap == 1))/4))\n",
    "      local_prob_qSS=scalar(ifthen(self.resultMap == 2, window4total(scalar(self.resultMap == 2))/4))\n",
    "      local_prob_qSE=scalar(ifthen(self.resultMap == 2, window4total(scalar(self.resultMap == 0))/4))\n",
    "      local_prob_qSB=scalar(ifthen(self.resultMap == 2, window4total(scalar(self.resultMap == 3))/4))\n",
    "      \n",
    "      local_prob_qGB=scalar(ifthen(self.resultMap == 1, window4total(scalar(self.resultMap == 3))/4))\n",
    "      local_prob_qGE=scalar(ifthen(self.resultMap == 1, window4total(scalar(self.resultMap == 0))/4))\n",
    "      local_prob_qGS=scalar(ifthen(self.resultMap == 1, window4total(scalar(self.resultMap == 2))/4))\n",
    "\n",
    "      local_prob_qEG=scalar(ifthen(self.resultMap == 0, window4total(scalar(self.resultMap == 1))/4))\n",
    "      local_prob_qES=scalar(ifthen(self.resultMap == 0, window4total(scalar(self.resultMap == 2))/4))\n",
    "\n",
    "      local_prob_qBS=scalar(ifthen(self.resultMap == 3, window4total(scalar(self.resultMap == 2))/4))\n",
    "      local_prob_qBG=scalar(ifthen(self.resultMap == 3, window4total(scalar(self.resultMap == 1))/4))\n",
    "\n",
    "\n",
    "      self.Results(local_prob_qSG, \"Results/qSG\")\n",
    "      self.Results(local_prob_qSS, \"Results/qSS\")\n",
    "      self.Results(local_prob_qGE, \"Results/qGE\")\n",
    "      self.Results(local_prob_qSE, \"Results/qSE\")\n",
    "      self.Results(local_prob_qSB, \"Results/qSB\")\n",
    "      self.Results(local_prob_qGB, \"Results/qGB\")\n",
    "\n",
    "      #Transition Rules\n",
    "\n",
    "      # 1 Colonization of empty cells by shrub\n",
    "      transition_empty_shrub = ((1-local_prob_qES) * estab_rate_shrub_on_empty + repro_rate_shrub_on_empty) * local_prob_qES*(1-self.grazingRate)\n",
    "      #transition_empty_shrub = 0.5\n",
    "      \n",
    "      # 2 Colonization of empty cells by grass\n",
    "      transition_empty_grass = clonal_rate_gras_on_empty * local_prob_qEG + estab_rate_grass_on_empty * global_prob_grass\n",
    "      #transition_empty_grass = 0.5\n",
    "      \n",
    "      # 3 Colonization of grass cells by shrub\n",
    "      transition_grass_shrub = ((1-local_prob_qGS) *estab_rate_shrub_on_grass + repro_rate_shrub_on_grass) * local_prob_qGS*(1-self.grazingRate)\n",
    "      #transition_grass_shrub = 0.5\n",
    "      \n",
    "      # 4 Mortality\n",
    "      mortality_shrub = mortality_rate_shrub + competition_shrub_center * local_prob_qSS\n",
    "      mortality_grass = mortality_rate_grass\n",
    "      \n",
    "      # 5 Colonization of burned cells by shrub\n",
    "      transition_burned_shrub = ((1-local_prob_qBS) * estab_rate_shrub_on_burned + repro_rate_shrub_on_empty) * local_prob_qBS*(1-self.grazingRate)\n",
    "      \n",
    "      # 6 Colonization of burned cells by grass\n",
    "      transition_burned_grass = clonal_rate_gras_on_empty * local_prob_qBG + estab_rate_grass_on_empty * global_prob_grass\n",
    "      #transition_burned_grass = 0.5\n",
    "\n"
   ]
  },
  {
   "cell_type": "code",
   "execution_count": null,
   "metadata": {},
   "outputs": [],
   "source": []
  }
 ],
 "metadata": {
  "kernelspec": {
   "display_name": "Python 3.9.12 ('pcrastergeo')",
   "language": "python",
   "name": "python3"
  },
  "language_info": {
   "codemirror_mode": {
    "name": "ipython",
    "version": 3
   },
   "file_extension": ".py",
   "mimetype": "text/x-python",
   "name": "python",
   "nbconvert_exporter": "python",
   "pygments_lexer": "ipython3",
   "version": "3.9.12"
  },
  "orig_nbformat": 4,
  "vscode": {
   "interpreter": {
    "hash": "643095e2c2e4476923b43bc91225bc7b7a703d5be75c7cd2623f0ab6348b0ea0"
   }
  }
 },
 "nbformat": 4,
 "nbformat_minor": 2
}
